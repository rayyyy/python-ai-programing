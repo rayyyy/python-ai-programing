{
 "cells": [
  {
   "cell_type": "code",
   "execution_count": 1,
   "id": "827f518b-a2b4-4064-a200-37d55e27d597",
   "metadata": {},
   "outputs": [],
   "source": [
    "%load_ext lab_black"
   ]
  },
  {
   "cell_type": "code",
   "execution_count": 2,
   "id": "5881b609-3de4-4a52-80ee-986c49b56428",
   "metadata": {},
   "outputs": [],
   "source": [
    "import matplotlib.pyplot as plt\n",
    "import numpy as np\n",
    "import pandas as pd"
   ]
  },
  {
   "cell_type": "markdown",
   "metadata": {},
   "source": [
    "# irisから花のデータをダウンロード"
   ]
  },
  {
   "cell_type": "code",
   "execution_count": 3,
   "id": "00385bb8-bac4-439d-ba9b-3a4e88769fa4",
   "metadata": {},
   "outputs": [
    {
     "name": "stdout",
     "output_type": "stream",
     "text": [
      "URL: https://archive.ics.uci.edu/ml/machine-learning-databases/iris/iris.data\n"
     ]
    }
   ],
   "source": [
    "s = \"https://archive.ics.uci.edu/ml/machine-learning-databases/iris/iris.data\"\n",
    "print(\"URL:\", s)"
   ]
  },
  {
   "cell_type": "code",
   "execution_count": 4,
   "id": "2e3c3c9f-a449-44ae-af00-4a03cb3ffd27",
   "metadata": {},
   "outputs": [
    {
     "data": {
      "text/html": [
       "<div>\n",
       "<style scoped>\n",
       "    .dataframe tbody tr th:only-of-type {\n",
       "        vertical-align: middle;\n",
       "    }\n",
       "\n",
       "    .dataframe tbody tr th {\n",
       "        vertical-align: top;\n",
       "    }\n",
       "\n",
       "    .dataframe thead th {\n",
       "        text-align: right;\n",
       "    }\n",
       "</style>\n",
       "<table border=\"1\" class=\"dataframe\">\n",
       "  <thead>\n",
       "    <tr style=\"text-align: right;\">\n",
       "      <th></th>\n",
       "      <th>0</th>\n",
       "      <th>1</th>\n",
       "      <th>2</th>\n",
       "      <th>3</th>\n",
       "      <th>4</th>\n",
       "    </tr>\n",
       "  </thead>\n",
       "  <tbody>\n",
       "    <tr>\n",
       "      <th>145</th>\n",
       "      <td>6.7</td>\n",
       "      <td>3.0</td>\n",
       "      <td>5.2</td>\n",
       "      <td>2.3</td>\n",
       "      <td>Iris-virginica</td>\n",
       "    </tr>\n",
       "    <tr>\n",
       "      <th>146</th>\n",
       "      <td>6.3</td>\n",
       "      <td>2.5</td>\n",
       "      <td>5.0</td>\n",
       "      <td>1.9</td>\n",
       "      <td>Iris-virginica</td>\n",
       "    </tr>\n",
       "    <tr>\n",
       "      <th>147</th>\n",
       "      <td>6.5</td>\n",
       "      <td>3.0</td>\n",
       "      <td>5.2</td>\n",
       "      <td>2.0</td>\n",
       "      <td>Iris-virginica</td>\n",
       "    </tr>\n",
       "    <tr>\n",
       "      <th>148</th>\n",
       "      <td>6.2</td>\n",
       "      <td>3.4</td>\n",
       "      <td>5.4</td>\n",
       "      <td>2.3</td>\n",
       "      <td>Iris-virginica</td>\n",
       "    </tr>\n",
       "    <tr>\n",
       "      <th>149</th>\n",
       "      <td>5.9</td>\n",
       "      <td>3.0</td>\n",
       "      <td>5.1</td>\n",
       "      <td>1.8</td>\n",
       "      <td>Iris-virginica</td>\n",
       "    </tr>\n",
       "  </tbody>\n",
       "</table>\n",
       "</div>"
      ],
      "text/plain": [
       "       0    1    2    3               4\n",
       "145  6.7  3.0  5.2  2.3  Iris-virginica\n",
       "146  6.3  2.5  5.0  1.9  Iris-virginica\n",
       "147  6.5  3.0  5.2  2.0  Iris-virginica\n",
       "148  6.2  3.4  5.4  2.3  Iris-virginica\n",
       "149  5.9  3.0  5.1  1.8  Iris-virginica"
      ]
     },
     "execution_count": 4,
     "metadata": {},
     "output_type": "execute_result"
    }
   ],
   "source": [
    "df = pd.read_csv(s, header=None, encoding=\"utf-8\")\n",
    "df.head()\n",
    "df.tail()"
   ]
  },
  {
   "cell_type": "markdown",
   "metadata": {},
   "source": [
    "# AIで判定しやすそうか確認\n",
    "150このデータに３この花が50個ずつあるので、最初の100個のデータで2つの花が分類しやすそうか確認する"
   ]
  },
  {
   "cell_type": "code",
   "execution_count": 16,
   "id": "5e621a4f-eb71-4b5b-9426-c3e4d811c7e5",
   "metadata": {},
   "outputs": [],
   "source": [
    "y = df.iloc[0:100, 4].values\n",
    "y = np.where(y == \"Iris-setosa\", -1, 1)\n",
    "X = df.iloc[0:100, [0, 2]].values"
   ]
  },
  {
   "cell_type": "code",
   "execution_count": 17,
   "metadata": {},
   "outputs": [
    {
     "data": {
      "image/png": "[encoded data removed]",
      "text/plain": [
       "<Figure size 432x288 with 1 Axes>"
      ]
     },
     "metadata": {
      "needs_background": "light"
     },
     "output_type": "display_data"
    }
   ],
   "source": [
    "plt.scatter(X[:50, 0], X[:50, 1], color=\"red\", marker=\"o\", label=\"setosa\")\n",
    "plt.scatter(X[50:100, 0], X[50:100, 1], color=\"blue\", marker=\"x\", label=\"versicolor\")\n",
    "plt.xlabel(\"sepal length [cm]\")\n",
    "plt.ylabel(\"petal length [cm]\")\n",
    "plt.legend(loc=\"upper left\")\n",
    "plt.show()"
   ]
  },
  {
   "cell_type": "markdown",
   "metadata": {},
   "source": [
    "分類しやすそうなデータになっている\n",
    "試しに別の特徴量でも見てみる"
   ]
  },
  {
   "cell_type": "code",
   "execution_count": 18,
   "metadata": {},
   "outputs": [
    {
     "data": {
      "image/png": "[encoded data removed]",
      "text/plain": [
       "<Figure size 432x288 with 1 Axes>"
      ]
     },
     "metadata": {
      "needs_background": "light"
     },
     "output_type": "display_data"
    }
   ],
   "source": [
    "X = df.iloc[0:100, [0, 1]].values\n",
    "\n",
    "plt.scatter(X[:50, 0], X[:50, 1], color=\"red\", marker=\"o\", label=\"setosa\")\n",
    "plt.scatter(X[50:100, 0], X[50:100, 1], color=\"blue\", marker=\"x\", label=\"versicolor\")\n",
    "plt.xlabel(\"sepal length [cm]\")\n",
    "plt.ylabel(\"petal length [cm]\")\n",
    "plt.legend(loc=\"upper left\")\n",
    "plt.show()"
   ]
  },
  {
   "cell_type": "code",
   "execution_count": 19,
   "metadata": {},
   "outputs": [
    {
     "data": {
      "image/png": "[encoded data removed]",
      "text/plain": [
       "<Figure size 432x288 with 1 Axes>"
      ]
     },
     "metadata": {
      "needs_background": "light"
     },
     "output_type": "display_data"
    }
   ],
   "source": [
    "X = df.iloc[0:100, [1, 2]].values\n",
    "\n",
    "plt.scatter(X[:50, 0], X[:50, 1], color=\"red\", marker=\"o\", label=\"setosa\")\n",
    "plt.scatter(X[50:100, 0], X[50:100, 1], color=\"blue\", marker=\"x\", label=\"versicolor\")\n",
    "plt.xlabel(\"sepal length [cm]\")\n",
    "plt.ylabel(\"petal length [cm]\")\n",
    "plt.legend(loc=\"upper left\")\n",
    "plt.show()"
   ]
  },
  {
   "cell_type": "code",
   "execution_count": 20,
   "metadata": {},
   "outputs": [
    {
     "data": {
      "image/png": "[encoded data removed]",
      "text/plain": [
       "<Figure size 432x288 with 1 Axes>"
      ]
     },
     "metadata": {
      "needs_background": "light"
     },
     "output_type": "display_data"
    }
   ],
   "source": [
    "X = df.iloc[0:100, [1, 3]].values\n",
    "\n",
    "plt.scatter(X[:50, 0], X[:50, 1], color=\"red\", marker=\"o\", label=\"setosa\")\n",
    "plt.scatter(X[50:100, 0], X[50:100, 1], color=\"blue\", marker=\"x\", label=\"versicolor\")\n",
    "plt.xlabel(\"sepal length [cm]\")\n",
    "plt.ylabel(\"petal length [cm]\")\n",
    "plt.legend(loc=\"upper left\")\n",
    "plt.show()"
   ]
  },
  {
   "cell_type": "markdown",
   "metadata": {},
   "source": [
    "基本的にどれも分類しやすそう"
   ]
  },
  {
   "cell_type": "markdown",
   "metadata": {},
   "source": []
  }
 ],
 "metadata": {
  "interpreter": {
   "hash": "949777d72b0d2535278d3dc13498b2535136f6dfe0678499012e853ee9abcab1"
  },
  "kernelspec": {
   "display_name": "Python 3.10.0 64-bit",
   "name": "python3"
  },
  "language_info": {
   "codemirror_mode": {
    "name": "ipython",
    "version": 3
   },
   "file_extension": ".py",
   "mimetype": "text/x-python",
   "name": "python",
   "nbconvert_exporter": "python",
   "pygments_lexer": "ipython3",
   "version": "3.10.0"
  }
 },
 "nbformat": 4,
 "nbformat_minor": 5
}
